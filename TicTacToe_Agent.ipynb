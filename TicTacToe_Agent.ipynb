{
 "cells": [
  {
   "cell_type": "markdown",
   "metadata": {
    "colab_type": "text",
    "id": "rznSDgbvGggG"
   },
   "source": [
    "## Tic-Tac-Toe Agent - Submitted by Tim Kumar M B\n",
    "​\n",
    "An RL agent is built using Q-learning that learns to play Numerical Tic-Tac-Toe with odd numbers. The environment is playing randomly with the agent, i.e. its strategy is to put an even number randomly in an empty cell. The following is the layout of the notebook:\n",
    "        - Defining epsilon-greedy strategy\n",
    "        - Tracking state-action pairs for convergence\n",
    "        - Define hyperparameters for the Q-learning algorithm\n",
    "        - Generating episode and applying Q-update equation\n",
    "        - Checking convergence in Q-values"
   ]
  },
  {
   "cell_type": "markdown",
   "metadata": {
    "colab_type": "text",
    "id": "8eDb8PxBGggH"
   },
   "source": [
    "#### Importing libraries"
   ]
  },
  {
   "cell_type": "code",
   "execution_count": 25,
   "metadata": {
    "colab": {},
    "colab_type": "code",
    "collapsed": true,
    "id": "6SFNYceFGggJ"
   },
   "outputs": [],
   "source": [
    "import collections\n",
    "import numpy as np\n",
    "import random\n",
    "import pickle\n",
    "import time\n",
    "from matplotlib import pyplot as plt\n",
    "import random"
   ]
  },
  {
   "cell_type": "code",
   "execution_count": 26,
   "metadata": {
    "collapsed": true
   },
   "outputs": [],
   "source": [
    "from TCGame_Env import TicTacToe\n",
    "env = TicTacToe()"
   ]
  },
  {
   "cell_type": "code",
   "execution_count": 27,
   "metadata": {
    "colab": {},
    "colab_type": "code",
    "collapsed": true,
    "id": "wYLQyopEG8nz"
   },
   "outputs": [],
   "source": [
    "# Function to convert state array into a string to store it as keys in the dictionary\n",
    "# states in Q-dictionary will be of form: x-4-5-3-8-x-x-x-x\n",
    "#   x | 4 | 5\n",
    "#   ----------\n",
    "#   3 | 8 | x\n",
    "#   ----------\n",
    "#   x | x | x\n",
    "\n",
    "def Q_state(state):\n",
    "\n",
    "    return ('-'.join(str(e) for e in state)).replace('nan','x')"
   ]
  },
  {
   "cell_type": "code",
   "execution_count": 28,
   "metadata": {
    "colab": {},
    "colab_type": "code",
    "collapsed": true,
    "id": "ZebMOoiVHBBr"
   },
   "outputs": [],
   "source": [
    "# Defining a function which will return valid (all possible actions) actions corresponding to a state\n",
    "\n",
    "def valid_actions(state):\n",
    "\n",
    "    valid_Actions = []\n",
    "    \n",
    "    valid_Actions = [i for i in env.action_space(state)[0]]\n",
    "    return valid_Actions"
   ]
  },
  {
   "cell_type": "code",
   "execution_count": 29,
   "metadata": {
    "colab": {},
    "colab_type": "code",
    "collapsed": true,
    "id": "IRciPUkYHDWf"
   },
   "outputs": [],
   "source": [
    "# Defining a function which will add new Q-values to the Q-dictionary. \n",
    "def add_to_dict(state):\n",
    "    state1 = Q_state(state)\n",
    "    \n",
    "    valid_act = valid_actions(state)\n",
    "    if state1 not in Q_dict.keys():\n",
    "        for action in valid_act:\n",
    "            Q_dict[state1][action]=0"
   ]
  },
  {
   "cell_type": "markdown",
   "metadata": {
    "colab_type": "text",
    "id": "fNNi_EfHGggM"
   },
   "source": [
    "#### Epsilon-greedy strategy "
   ]
  },
  {
   "cell_type": "code",
   "execution_count": 30,
   "metadata": {
    "colab": {},
    "colab_type": "code",
    "collapsed": true,
    "id": "m0lMfqiJGggN"
   },
   "outputs": [],
   "source": [
    "# Defining epsilon-greedy policy. \n",
    "max_epsilon = 1.0\n",
    "min_epsilon = 0.001\n",
    "\n",
    "def epsilon_greedy(state, time):\n",
    "    epsilon = min_epsilon + (max_epsilon - min_epsilon) * np.exp(-0.000001*time)\n",
    "    z = np.random.random()       \n",
    "    if z > epsilon:\n",
    "        action = max(Q_dict[Q_state(state)],key=Q_dict[Q_state(state)].get)   #Exploitation: this gets the action corresponding to max q-value of current state\n",
    "    else:\n",
    "        action = random.sample(valid_actions(state),1)[0]   \n",
    "    \n",
    "    return action"
   ]
  },
  {
   "cell_type": "markdown",
   "metadata": {
    "colab_type": "text",
    "id": "H2kyQHOMGggR"
   },
   "source": [
    "#### Tracking the state-action pairs for checking convergence"
   ]
  },
  {
   "cell_type": "code",
   "execution_count": 31,
   "metadata": {
    "colab": {},
    "colab_type": "code",
    "collapsed": true,
    "id": "qcxZ29vdGggS"
   },
   "outputs": [],
   "source": [
    "# Initialise Q_dictionary as 'Q_dict' and States_tracked as 'States_track' (for convergence)\n",
    "\n",
    "Q_dict = collections.defaultdict(dict)\n",
    "\n",
    "States_track = collections.defaultdict(dict)"
   ]
  },
  {
   "cell_type": "code",
   "execution_count": 32,
   "metadata": {
    "colab": {},
    "colab_type": "code",
    "collapsed": true,
    "id": "vs73iv8fHOxV"
   },
   "outputs": [],
   "source": [
    "# Initialise states to be tracked\n",
    "def initialise_tracking_states():\n",
    "    sample_q_values = [('x-5-x-x-x-x-8-x-x',(0,1)),\n",
    "                       ('x-5-x-x-x-x-8-x-x',(2,9)),\n",
    "                       ('x-x-x-x-6-x-x-x-5',(2,9)),\n",
    "                       ('x-x-9-x-x-x-6-x-x',(1,5)),\n",
    "                       ('x-5-x-2-x-x-4-7-x',(0,9)),\n",
    "                       ('9-x-5-x-x-x-8-x-6',(1,1)),\n",
    "                       ('2-5-x-x-6-x-x-3-x',(8,7)),\n",
    "                       ('9-x-x-x-8-x-x-x-x',(2,5)),\n",
    "                       ('9-x-x-x-x-x-x-x-2',(1,5)),\n",
    "                       ('5-x-4-x-x-6-x-x-1',(4,9)),\n",
    "                       ('2-6-x-x-x-x-3-7-x',(8,5)),\n",
    "                       ('5-x-8-x-x-6-3-x-x',(3,7))]    \n",
    "    for q_values in sample_q_values:\n",
    "        state = q_values[0]\n",
    "        action = q_values[1]\n",
    "        States_track[state][action] = [] "
   ]
  },
  {
   "cell_type": "code",
   "execution_count": 33,
   "metadata": {
    "colab": {},
    "colab_type": "code",
    "collapsed": true,
    "id": "dAbwJDMVHpwl"
   },
   "outputs": [],
   "source": [
    "#Defining a function to save the Q-dictionary as a pickle file\n",
    "\n",
    "def save_obj(obj, name ):\n",
    "    with open(name + '.pkl', 'wb') as f:\n",
    "        pickle.dump(obj, f, pickle.HIGHEST_PROTOCOL)"
   ]
  },
  {
   "cell_type": "code",
   "execution_count": 34,
   "metadata": {
    "colab": {},
    "colab_type": "code",
    "collapsed": true,
    "id": "6Pyj7nMVHsBi"
   },
   "outputs": [],
   "source": [
    "def save_tracking_states():\n",
    "    for state in States_track.keys():\n",
    "        for action in States_track[state].keys():\n",
    "            if state in Q_dict and action in Q_dict[state]:\n",
    "                States_track[state][action].append(Q_dict[state][action])"
   ]
  },
  {
   "cell_type": "code",
   "execution_count": 35,
   "metadata": {
    "colab": {},
    "colab_type": "code",
    "collapsed": true,
    "id": "B_8xSluUHvew"
   },
   "outputs": [],
   "source": [
    "initialise_tracking_states()"
   ]
  },
  {
   "cell_type": "code",
   "execution_count": 36,
   "metadata": {
    "collapsed": true
   },
   "outputs": [],
   "source": [
    "q_track={}\n",
    "q_track['x-5-x-x-x-x-8-x-x']=[]\n",
    "q_track['x-x-x-x-6-x-x-x-5']=[]\n",
    "q_track['x-x-9-x-x-x-6-x-x']=[]\n",
    "q_track['x-5-x-2-x-x-4-7-x']=[]\n",
    "q_track['9-x-5-x-x-x-8-x-6']=[]\n",
    "q_track['2-5-x-x-6-x-x-3-x']=[]\n",
    "q_track['9-x-x-x-8-x-x-x-x']=[]\n",
    "q_track['9-x-x-x-x-x-x-x-2']=[]\n",
    "q_track['5-x-4-x-x-6-x-x-1']=[]\n",
    "q_track['2-6-x-x-x-x-3-7-x']=[]\n",
    "q_track['5-x-8-x-x-6-3-x-x']=[]"
   ]
  },
  {
   "cell_type": "markdown",
   "metadata": {
    "colab_type": "text",
    "id": "-iPt--E9GggV"
   },
   "source": [
    "#### Define hyperparameters "
   ]
  },
  {
   "cell_type": "code",
   "execution_count": 37,
   "metadata": {
    "colab": {},
    "colab_type": "code",
    "collapsed": true,
    "id": "G0_f5czFGggW"
   },
   "outputs": [],
   "source": [
    "EPISODES = 6000000\n",
    "LR = 0.15                \n",
    "GAMMA = 1\n",
    "threshold = 2500"
   ]
  },
  {
   "cell_type": "markdown",
   "metadata": {
    "colab_type": "text",
    "id": "Md6twJ7wGggh"
   },
   "source": [
    "### Q-update loop "
   ]
  },
  {
   "cell_type": "code",
   "execution_count": 38,
   "metadata": {
    "colab": {},
    "colab_type": "code",
    "id": "ldCgQuDNGggj",
    "scrolled": false
   },
   "outputs": [
    {
     "name": "stdout",
     "output_type": "stream",
     "text": [
      "Processed 1M episodes\n",
      "Processed 2M episodes\n",
      "Processed 3M episodes\n",
      "Processed 4M episodes\n",
      "Processed 5M episodes\n",
      "Processed 6M episodes\n"
     ]
    }
   ],
   "source": [
    "start_time = time.time()\n",
    "\n",
    "for episode in range(EPISODES):\n",
    "    reward=0\n",
    "    curr_state = env.state\n",
    "    add_to_dict(curr_state)\n",
    "    is_terminal=False\n",
    "    total_reward = 0\n",
    "    \n",
    "    \n",
    "    while not(is_terminal):\n",
    "        \n",
    "        curr_action = epsilon_greedy(curr_state, episode)\n",
    "        \n",
    "        if Q_state(curr_state) in q_track.keys():\n",
    "            q_track[Q_state(curr_state)].append(curr_action)\n",
    "        \n",
    "        \n",
    "        next_state,reward,is_terminal=env.step(curr_state,curr_action)        \n",
    "        \n",
    "        curr_lookup=Q_state(curr_state)\n",
    "        next_lookup=Q_state(next_state)\n",
    "        \n",
    "        if not(is_terminal):\n",
    "            add_to_dict(next_state)\n",
    "            max_next = max(Q_dict[next_lookup],key=Q_dict[next_lookup].get)\n",
    "            max_q = Q_dict[next_lookup][max_next]\n",
    "            \n",
    "        else:\n",
    "            max_q = 0\n",
    "        \n",
    "        Q_dict[curr_lookup][curr_action] += LR * ((reward + (GAMMA*(max_q))) - Q_dict[curr_lookup][curr_action]) \n",
    "        curr_state = next_state\n",
    "    \n",
    "        total_reward += reward      \n",
    "        \n",
    "    if ((episode+1) % threshold) == 0:   \n",
    "        save_tracking_states()\n",
    "        \n",
    "    if ((episode+1) % 1000000) == 0:\n",
    "        print('Processed %dM episodes'%((episode+1)/1000000))\n",
    "        \n",
    "\n",
    "elapsed_time = time.time() - start_time\n",
    "save_obj(States_track,'States_tracked')   \n",
    "save_obj(Q_dict,'Policy')"
   ]
  },
  {
   "cell_type": "markdown",
   "metadata": {
    "colab_type": "text",
    "id": "t6eMFbb8Ggg2"
   },
   "source": [
    "#### Check the Q-dictionary"
   ]
  },
  {
   "cell_type": "code",
   "execution_count": 58,
   "metadata": {},
   "outputs": [
    {
     "data": {
      "text/plain": [
       "1252724"
      ]
     },
     "execution_count": 58,
     "metadata": {},
     "output_type": "execute_result"
    }
   ],
   "source": [
    "len(Q_dict)"
   ]
  },
  {
   "cell_type": "code",
   "execution_count": 59,
   "metadata": {
    "colab": {},
    "colab_type": "code",
    "id": "fr9d2fcVGgg4"
   },
   "outputs": [
    {
     "data": {
      "text/plain": [
       "{(1, 1): -0.15,\n",
       " (1, 7): -1.425,\n",
       " (1, 9): -0.15,\n",
       " (3, 1): -0.15,\n",
       " (3, 7): 6.794229117187499,\n",
       " (3, 9): 0,\n",
       " (4, 1): -1.5,\n",
       " (4, 7): 0,\n",
       " (4, 9): 0,\n",
       " (7, 1): 0,\n",
       " (7, 7): -0.27749999999999997,\n",
       " (7, 9): 0,\n",
       " (8, 1): 0,\n",
       " (8, 7): 0,\n",
       " (8, 9): -0.15}"
      ]
     },
     "execution_count": 59,
     "metadata": {},
     "output_type": "execute_result"
    }
   ],
   "source": [
    "Q_dict['5-x-8-x-x-6-3-x-x']"
   ]
  },
  {
   "cell_type": "markdown",
   "metadata": {
    "colab_type": "text",
    "id": "KGPZEQDFGghG"
   },
   "source": [
    "#### Check the states tracked for Q-values convergence"
   ]
  },
  {
   "cell_type": "code",
   "execution_count": 60,
   "metadata": {
    "collapsed": true
   },
   "outputs": [],
   "source": [
    "with open('States_tracked.pkl', 'rb') as handle:\n",
    "    States_track = pickle.load(handle) "
   ]
  },
  {
   "cell_type": "code",
   "execution_count": 61,
   "metadata": {
    "colab": {},
    "colab_type": "code",
    "id": "pVQInsg7GghL"
   },
   "outputs": [
    {
     "data": {
      "image/png": "[encoded data removed]",
      "text/plain": [
       "<matplotlib.figure.Figure at 0x1f309ac3898>"
      ]
     },
     "metadata": {},
     "output_type": "display_data"
    }
   ],
   "source": [
    "plt.figure(0, figsize=(16,7))\n",
    "plt.subplot(241)\n",
    "t1=States_track['x-5-x-x-x-x-8-x-x'][(2,9)]\n",
    "plt.title(\"(s,a)=('x-5-x-x-x-x-8-x-x',(2,9))\")\n",
    "plt.plot(np.asarray(range(0, len(t1))),np.asarray(t1))\n",
    "\n",
    "plt.subplot(242)\n",
    "t2=States_track['x-x-9-x-x-x-6-x-x'][(1,5)]\n",
    "plt.title(\"(s,a)=('x-x-9-x-x-x-6-x-x',(1,5))\")\n",
    "plt.plot(np.asarray(range(0, len(t2))),np.asarray(t2))\n",
    "\n",
    "plt.subplot(243)\n",
    "t3=States_track['x-5-x-2-x-x-4-7-x'][(0,9)]\n",
    "plt.title(\"(s,a)=('x-5-x-2-x-x-4-7-x',(0,9))\")\n",
    "plt.plot(np.asarray(range(0, len(t3))),np.asarray(t3))\n",
    "\n",
    "plt.subplot(244)\n",
    "t4=States_track['2-5-x-x-6-x-x-3-x'][(8,7)]\n",
    "plt.title(\"(s,a)=('2-5-x-x-6-x-x-3-x',(8,7))\")\n",
    "plt.plot(np.asarray(range(0, len(t4))),np.asarray(t4))\n",
    "\n",
    "plt.show()"
   ]
  },
  {
   "cell_type": "markdown",
   "metadata": {
    "colab_type": "text",
    "id": "b2Opp8_NITkC"
   },
   "source": [
    "### Epsilon - decay check"
   ]
  },
  {
   "cell_type": "code",
   "execution_count": 62,
   "metadata": {
    "colab": {},
    "colab_type": "code",
    "collapsed": true,
    "id": "gQ_D_JsuGghR"
   },
   "outputs": [],
   "source": [
    "max_epsilon = 1.0\n",
    "min_epsilon = 0.001\n",
    "time = np.arange(0,6000000)\n",
    "epsilon = []\n",
    "for i in range(0,6000000):\n",
    "    epsilon.append(min_epsilon + (max_epsilon - min_epsilon) * np.exp(-0.000001*i))"
   ]
  },
  {
   "cell_type": "code",
   "execution_count": 63,
   "metadata": {
    "colab": {
     "base_uri": "https://localhost:8080/",
     "height": 347
    },
    "colab_type": "code",
    "id": "J7c2xADQGghV",
    "outputId": "cb60fce3-570b-45fb-bd83-abde3d13b273"
   },
   "outputs": [
    {
     "data": {
      "image/png": "[encoded data removed]",
      "text/plain": [
       "<matplotlib.figure.Figure at 0x1f30983ff98>"
      ]
     },
     "metadata": {},
     "output_type": "display_data"
    }
   ],
   "source": [
    "plt.plot(time, epsilon)\n",
    "plt.show()"
   ]
  },
  {
   "cell_type": "code",
   "execution_count": null,
   "metadata": {
    "collapsed": true
   },
   "outputs": [],
   "source": []
  }
 ],
 "metadata": {
  "colab": {
   "collapsed_sections": [],
   "name": "TicTacToe_Agent.ipynb",
   "provenance": [],
   "version": "0.3.2"
  },
  "kernelspec": {
   "display_name": "Python 3",
   "language": "python",
   "name": "python3"
  },
  "language_info": {
   "codemirror_mode": {
    "name": "ipython",
    "version": 3
   },
   "file_extension": ".py",
   "mimetype": "text/x-python",
   "name": "python",
   "nbconvert_exporter": "python",
   "pygments_lexer": "ipython3",
   "version": "3.6.7"
  }
 },
 "nbformat": 4,
 "nbformat_minor": 1
}
